{
 "cells": [
  {
   "cell_type": "code",
   "execution_count": 68,
   "metadata": {
    "scrolled": true
   },
   "outputs": [
    {
     "name": "stdout",
     "output_type": "stream",
     "text": [
      "The coin game result is:\n",
      "The coin landed on Tails.\n",
      "You lost -$20.00 dollars!, currently you have $80.00 dollars.\n",
      "\n",
      "The dice game result is:\n",
      "Dice #1 is 6 and Dice #2 is 4; they both add 10.\n",
      "You lost -$7.00 dollars!, currently you have $73.00 dollars.\n",
      "\n",
      "The card game result is:\n",
      "You card is 1, and the house's card is 10.\n",
      "You lost -$30.00 dollars!, currently you have $43.00 dollars.\n",
      "\n"
     ]
    }
   ],
   "source": [
    "import random\n",
    "\n",
    "money = 100\n",
    "\n",
    "#Game functions start here\n",
    "\n",
    "#Coin simulation, receives a bet and a call (Heads or Tails)\n",
    "def coin_game(bet, call):\n",
    "    global money\n",
    "    coin_num=random.randint(0,1)\n",
    "    if coin_num == 1:\n",
    "        coin_side = \"Heads\"\n",
    "    else:\n",
    "        coin_side =  \"Tails\"\n",
    "    print (\"The coin game result is:\")    \n",
    "    print (\"The coin landed on {}.\".format(coin_side))\n",
    "    if coin_side == call:\n",
    "        money+=bet\n",
    "        print (\"You won ${:.2f} dollars!, currently you have ${:.2f} dollars.\".format(bet, money))\n",
    "        #print (\"You won $%.2f dollars!, currently you have $%.2f dollars.\" %(bet, money))\n",
    "    else:\n",
    "        money-=bet\n",
    "        print (\"You lost -${:.2f} dollars!, currently you have ${:.2f} dollars.\".format(bet, money))\n",
    "        #print (\"You lost -$%.2f dollars!, currently you have $%.2f dollars.\" %(bet, money))\n",
    "    print(\"\")\n",
    "#Dice game simulation, receives a bet and a call (Odd or even)\n",
    "def dice_game (bet, call):\n",
    "    global money\n",
    "    dice_1=random.randint(1,6)\n",
    "    dice_2=random.randint(1,6)\n",
    "    dice_total=dice_1+dice_2\n",
    "    print (\"The dice game result is:\")\n",
    "    print (\"Dice #1 is {} and Dice #2 is {}; they both add {}.\".format(dice_1, dice_2, dice_total))\n",
    "    \n",
    "    if dice_total%2 == 0:\n",
    "        dices=\"Eveb\"\n",
    "    else:\n",
    "        dices=\"Odd\"\n",
    "  \n",
    "    if dices==call:\n",
    "        money+=bet\n",
    "        print (\"You won ${:.2f} dollars!, currently you have ${:.2f} dollars.\".format(bet, money))\n",
    "    else:\n",
    "        money-=bet\n",
    "        print (\"You lost -${:.2f} dollars!, currently you have ${:.2f} dollars.\".format(bet, money))\n",
    "    print(\"\")    \n",
    "#Card game simulation against the house, receives one bet.\n",
    "def card_game(bet):\n",
    "    global money\n",
    "    card_p=random.randint(1,13)\n",
    "    card_house=random.randint(1,13)\n",
    "    print (\"The card game result is:\")\n",
    "    print (\"You card is {}, and the house's card is {}.\".format(card_p, card_house))\n",
    "    if card_p>card_house:\n",
    "        money+=bet\n",
    "        print (\"You won ${:.2f} dollars!, currently you have ${:.2f} dollars.\".format(bet, money))\n",
    "    elif card_p<card_house:\n",
    "        money-=bet\n",
    "        print (\"You lost -${:.2f} dollars!, currently you have ${:.2f} dollars.\".format(bet, money))\n",
    "    else:\n",
    "        print (\"It's a tie!, currently you have ${:.2f} dollars.\".format(money))\n",
    "    print(\"\")\n",
    "\n",
    "#Coming next: roulette simulation.\n",
    "\n",
    "#Function testing\n",
    "coin_game (20,\"Heads\")\n",
    "dice_game (7, \"Odd\")\n",
    "card_game (30)"
   ]
  },
  {
   "cell_type": "code",
   "execution_count": null,
   "metadata": {},
   "outputs": [],
   "source": []
  },
  {
   "cell_type": "code",
   "execution_count": null,
   "metadata": {},
   "outputs": [],
   "source": []
  },
  {
   "cell_type": "code",
   "execution_count": null,
   "metadata": {},
   "outputs": [],
   "source": []
  },
  {
   "cell_type": "code",
   "execution_count": null,
   "metadata": {},
   "outputs": [],
   "source": []
  },
  {
   "cell_type": "code",
   "execution_count": null,
   "metadata": {},
   "outputs": [],
   "source": []
  }
 ],
 "metadata": {
  "kernelspec": {
   "display_name": "Python 3",
   "language": "python",
   "name": "python3"
  },
  "language_info": {
   "codemirror_mode": {
    "name": "ipython",
    "version": 3
   },
   "file_extension": ".py",
   "mimetype": "text/x-python",
   "name": "python",
   "nbconvert_exporter": "python",
   "pygments_lexer": "ipython3",
   "version": "3.7.3"
  }
 },
 "nbformat": 4,
 "nbformat_minor": 2
}
